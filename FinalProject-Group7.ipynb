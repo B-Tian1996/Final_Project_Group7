{
 "cells": [
  {
   "cell_type": "markdown",
   "metadata": {},
   "source": [
    "# Final Project: AdaBoost\n",
    "**Winter 2020**<br/>\n",
    "**Team member**: <br/>Bruce-Bingfan Tian <br/>\n",
    "Travis-Tiancheng Lin<br/>\n",
    "Vivien-Jitian Chen"
   ]
  },
  {
   "cell_type": "markdown",
   "metadata": {},
   "source": [
    "#### First we use sklearn reimplemented the content in the blog"
   ]
  },
  {
   "cell_type": "code",
   "execution_count": 1,
   "metadata": {
    "scrolled": true
   },
   "outputs": [
    {
     "name": "stdout",
     "output_type": "stream",
     "text": [
      "test Accuracy: 0.9777777777777777\n",
      "training Accuracy: 0.9777777777777777\n"
     ]
    }
   ],
   "source": [
    "# Load libraries\n",
    "from sklearn.ensemble import AdaBoostClassifier\n",
    "from sklearn import datasets\n",
    "# Import train_test_split function\n",
    "from sklearn.model_selection import train_test_split\n",
    "#Import scikit-learn metrics module for accuracy calculation\n",
    "from sklearn import metrics\n",
    "\n",
    "# Load data\n",
    "iris = datasets.load_iris()\n",
    "X = iris.data\n",
    "y = iris.target\n",
    "\n",
    "# Split dataset into training set and test set\n",
    "X_train, X_test, y_train, y_test = train_test_split(X, y, test_size=0.3) # 70% training and 30% test\n",
    "\n",
    "# Create adaboost classifer object\n",
    "abc = AdaBoostClassifier(n_estimators=50,\n",
    "                         learning_rate=1)\n",
    "# Train Adaboost Classifer\n",
    "model = abc.fit(X_train, y_train)\n",
    "\n",
    "#Predict the response for test dataset\n",
    "y_pred = model.predict(X_test)\n",
    "\n",
    "# Model Accuracy, how often is the classifier correct?\n",
    "print(\"test Accuracy:\",metrics.accuracy_score(y_test, y_pred))\n",
    "print(\"training Accuracy:\",metrics.accuracy_score(y_test, y_pred))"
   ]
  },
  {
   "cell_type": "markdown",
   "metadata": {},
   "source": [
    "#### then we implement it by ourselves in binary classification"
   ]
  },
  {
   "cell_type": "code",
   "execution_count": 2,
   "metadata": {},
   "outputs": [
    {
     "name": "stdout",
     "output_type": "stream",
     "text": [
      "FinalFeatureValue: [4.7, 4.9, 4.9, 4.9, 5.1, 5.1]\n",
      "FinalAlpha: [0.09360577104407318, 0.03509886861946353, 0.09009038757777413, 0.24307972442062353, 0.1719016528852874, 0.5145727335107229]\n"
     ]
    }
   ],
   "source": [
    "import numpy as np\n",
    "\n",
    "#Adaboost分类\n",
    "from sklearn.model_selection import cross_val_score\n",
    "from sklearn.datasets import load_iris\n",
    "from sklearn.ensemble import AdaBoostClassifier\n",
    "finalfeaturevalue=[]\n",
    "finalalpha=[]\n",
    "\n",
    "def calculateAlpha(error):# (Calculate classifier weight)\n",
    "    if error == 0:\n",
    "        return 0\n",
    "    else:\n",
    "        return (1/2) * (np.log((1-error)/error))\n",
    "\n",
    "def calculateWeight(alpha, originalWeight, y, g):# (Calculate sample weight)\n",
    "    weight = originalWeight * (np.e ** (-alpha * y * g))\n",
    "    return weight\n",
    "\n",
    "def sign(value):\n",
    "    if value > 0:\n",
    "        return 1\n",
    "    else:\n",
    "        return -1\n",
    "\n",
    "def predict(x, alpha, featureValue):# (Learning function, seems to be used to determine the new weight of the sample? If the number in this column is greater than this value, it is returned (alpha greater than 0 is alpha, less than 0 is -1, and vice versa)\n",
    "    if x >= featureValue:\n",
    "        return sign(alpha * 1)\n",
    "    else:\n",
    "        return sign(alpha * -1)\n",
    "\n",
    "\n",
    "def findBestCut(dataset, target, weights):\n",
    "    shape = np.shape(dataset)\n",
    "    featureNo = shape[1]\n",
    "    newWeights = []\n",
    "    for featureSeq in range(featureNo):# (featureSeq from 0 to 3)\n",
    "        featureRow = dataset[:, featureSeq]# (FeatureRow columns 0-3)\n",
    "        for featureIndex in range(len(featureRow)):# (FeatureIndex from 0-149)\n",
    "            featureValue = featureRow[featureIndex]# (Each column is traversed from 1-150 values)\n",
    "            resultRow = featureRow.copy()# (Copied this column in this loop)\n",
    "            for index in range(len(resultRow)):# (Each column is traversed from 1-150 values)\n",
    "                if resultRow[index] >= featureValue:# (If else statement compares each number in this column with a fixed number to generate a weak classifier)\n",
    "                    resultRow[index] = 1\n",
    "                else:\n",
    "                    resultRow[index] = -1\n",
    "            error = np.dot(np.multiply(resultRow, target), weights.T)# (Calculate error)\n",
    "           \n",
    "            if error < 0.5:# (Calculate weight when error is qualified\n",
    "                alpha = calculateAlpha(error)# (Call the calculation error function)\n",
    "                #print('alpha is :' + str(alpha))# (Output alpha value, that is, the value of the classifier weight)\n",
    "                for weightNo in range(len(weights)):# (The loop is still from 0-149)\n",
    "                    g = predict(featureRow[weightNo], alpha, featureValue)# (Ie weak classifier, the answer is 1 or -1, the learn function calls the sign function, so the result is still 1 or -1)\n",
    "                    newWeights.append(calculateWeight(alpha, weights[weightNo], target[weightNo], g))# (Calculate new weight)\n",
    "                newWeights = newWeights / sum(newWeights)# (Normalize the new weights so that their sum is 1)\n",
    "                return featureValue, alpha, newWeights# (Return the split node and weight))\n",
    "        return None, None, newWeights\n",
    "\n",
    "    # newWeights = newWeights/sum(newWeights)\n",
    "    #\n",
    "    # return featureValue, alpha, newWeights\n",
    "\n",
    "\n",
    "def adaBoost(dataset,target,weekClassifierNo):\n",
    "    shape = np.shape(dataset)\n",
    "    recordNo = shape[0]\n",
    "    weights = np.ones(recordNo)/recordNo\n",
    "    featureNo = shape[1]\n",
    "    weekClassifiers = {}\n",
    "    for classifierSeq in range(weekClassifierNo):\n",
    "        featureValue, alpha, newWeights = findBestCut(dataset, target, weights)\n",
    "        if len(newWeights) == 0:\n",
    "            break\n",
    "        weekClassifiers[\"WClassifier\" + str(classifierSeq)] = [featureNo, featureValue, alpha]# (Iteratively generate new weak classifiers\n",
    "        weights = newWeights#After generating once, update the sample weights (for example, after generating the first weak classifier, strengthen the points that the weak classifier failed to classify\n",
    "        finalfeaturevalue.append(featureValue)\n",
    "        finalalpha.append(alpha)\n",
    "    return weekClassifiers\n",
    "\n",
    "iris = load_iris()\n",
    "iris.target[iris.target > 0] = 1# (Data preprocessing, that is, turning the data into two categories\n",
    "iris.target[iris.target == 0] = -1\n",
    "weekClassifiers = adaBoost(iris.data, iris.target,6)\n",
    "print(\"FinalFeatureValue:\",finalfeaturevalue)\n",
    "print(\"FinalAlpha:\",finalalpha)"
   ]
  },
  {
   "cell_type": "markdown",
   "metadata": {},
   "source": [
    "#### In this part we print out the final result.  Here are the final classifier and the accuracy we got."
   ]
  },
  {
   "cell_type": "code",
   "execution_count": 3,
   "metadata": {
    "scrolled": true
   },
   "outputs": [
    {
     "name": "stdout",
     "output_type": "stream",
     "text": [
      "Accuracy: 0.8266666666666667\n",
      "Prediction: [1, -1, -1, -1, -1, 1, -1, -1, -1, -1, 1, -1, -1, -1, 1, 1, 1, 1, 1, 1, 1, 1, -1, 1, -1, -1, -1, 1, 1, -1, -1, 1, 1, 1, -1, -1, 1, -1, -1, 1, -1, -1, -1, -1, 1, -1, 1, -1, 1, -1, 1, 1, 1, 1, 1, 1, 1, -1, 1, 1, -1, 1, 1, 1, 1, 1, 1, 1, 1, 1, 1, 1, 1, 1, 1, 1, 1, 1, 1, 1, 1, 1, 1, 1, 1, 1, 1, 1, 1, 1, 1, 1, 1, -1, 1, 1, 1, 1, 1, 1, 1, 1, 1, 1, 1, 1, -1, 1, 1, 1, 1, 1, 1, 1, 1, 1, 1, 1, 1, 1, 1, 1, 1, 1, 1, 1, 1, 1, 1, 1, 1, 1, 1, 1, 1, 1, 1, 1, 1, 1, 1, 1, 1, 1, 1, 1, 1, 1, 1, 1]\n"
     ]
    }
   ],
   "source": [
    "featureRow = iris.data[:, 0]\n",
    "#print(featureRow)\n",
    "resultRow = featureRow.copy()\n",
    "#print(resultRow)\n",
    "finalrow=[]\n",
    "count=0\n",
    "for i in range(150):\n",
    "    finalrow.append(0)\n",
    "for featureIndex in range(len(finalfeaturevalue)):\n",
    "    featureValue = finalfeaturevalue[featureIndex]\n",
    "    #print(featureValue)\n",
    "    for index in range(len(resultRow)):\n",
    "        if resultRow[index] >= featureValue:\n",
    "            finalrow[index]+=1*finalalpha[featureIndex]\n",
    "        else:\n",
    "            finalrow[index]+=-1*finalalpha[featureIndex]\n",
    "#print(finalrow)\n",
    "for finalindex in range(150):\n",
    "    if finalrow[finalindex]>=0:\n",
    "        finalrow[finalindex]=1\n",
    "    else:\n",
    "        finalrow[finalindex]=-1 \n",
    "for finalindex in range(150):\n",
    "    if (finalrow[finalindex]==iris.target[finalindex]):\n",
    "        count=count+1\n",
    "print(\"Accuracy:\",count/150)\n",
    "print(\"Prediction:\",finalrow)"
   ]
  },
  {
   "cell_type": "markdown",
   "metadata": {},
   "source": [
    "#### Here we get the final classifier and the accuracy"
   ]
  },
  {
   "cell_type": "markdown",
   "metadata": {},
   "source": [
    "####  Then we tried to use another dataset which is more complex, we chose the bicycle dataset from HW1 and HW2, we preprocessed it into classification problem."
   ]
  },
  {
   "cell_type": "code",
   "execution_count": 30,
   "metadata": {},
   "outputs": [],
   "source": [
    "import numpy as np\n",
    "import pandas as pd\n",
    "import matplotlib\n",
    "import matplotlib.pyplot as plt\n",
    "\n",
    "%matplotlib inline\n"
   ]
  },
  {
   "cell_type": "code",
   "execution_count": 5,
   "metadata": {
    "scrolled": true
   },
   "outputs": [
    {
     "data": {
      "text/html": [
       "<div>\n",
       "<style scoped>\n",
       "    .dataframe tbody tr th:only-of-type {\n",
       "        vertical-align: middle;\n",
       "    }\n",
       "\n",
       "    .dataframe tbody tr th {\n",
       "        vertical-align: top;\n",
       "    }\n",
       "\n",
       "    .dataframe thead th {\n",
       "        text-align: right;\n",
       "    }\n",
       "</style>\n",
       "<table border=\"1\" class=\"dataframe\">\n",
       "  <thead>\n",
       "    <tr style=\"text-align: right;\">\n",
       "      <th></th>\n",
       "      <th>holiday</th>\n",
       "      <th>workingday</th>\n",
       "      <th>temp</th>\n",
       "      <th>atemp</th>\n",
       "      <th>humidity</th>\n",
       "      <th>windspeed</th>\n",
       "      <th>count</th>\n",
       "      <th>season_2.0</th>\n",
       "      <th>season_3.0</th>\n",
       "      <th>season_4.0</th>\n",
       "      <th>...</th>\n",
       "      <th>month_11.0</th>\n",
       "      <th>month_12.0</th>\n",
       "      <th>day_of_week_1.0</th>\n",
       "      <th>day_of_week_2.0</th>\n",
       "      <th>day_of_week_3.0</th>\n",
       "      <th>day_of_week_4.0</th>\n",
       "      <th>day_of_week_5.0</th>\n",
       "      <th>day_of_week_6.0</th>\n",
       "      <th>weather_2.0</th>\n",
       "      <th>weather_3.0</th>\n",
       "    </tr>\n",
       "  </thead>\n",
       "  <tbody>\n",
       "    <tr>\n",
       "      <td>count</td>\n",
       "      <td>331.000000</td>\n",
       "      <td>331.000000</td>\n",
       "      <td>3.310000e+02</td>\n",
       "      <td>3.310000e+02</td>\n",
       "      <td>3.310000e+02</td>\n",
       "      <td>3.310000e+02</td>\n",
       "      <td>331.000000</td>\n",
       "      <td>331.000000</td>\n",
       "      <td>331.000000</td>\n",
       "      <td>331.000000</td>\n",
       "      <td>...</td>\n",
       "      <td>331.000000</td>\n",
       "      <td>331.000000</td>\n",
       "      <td>331.000000</td>\n",
       "      <td>331.000000</td>\n",
       "      <td>331.000000</td>\n",
       "      <td>331.000000</td>\n",
       "      <td>331.000000</td>\n",
       "      <td>331.000000</td>\n",
       "      <td>331.000000</td>\n",
       "      <td>331.000000</td>\n",
       "    </tr>\n",
       "    <tr>\n",
       "      <td>mean</td>\n",
       "      <td>0.033233</td>\n",
       "      <td>0.670695</td>\n",
       "      <td>-6.976628e-17</td>\n",
       "      <td>-1.227618e-16</td>\n",
       "      <td>-7.808457e-16</td>\n",
       "      <td>1.543579e-15</td>\n",
       "      <td>4598.447130</td>\n",
       "      <td>0.259819</td>\n",
       "      <td>0.265861</td>\n",
       "      <td>0.256798</td>\n",
       "      <td>...</td>\n",
       "      <td>0.093656</td>\n",
       "      <td>0.066465</td>\n",
       "      <td>0.175227</td>\n",
       "      <td>0.135952</td>\n",
       "      <td>0.123867</td>\n",
       "      <td>0.123867</td>\n",
       "      <td>0.145015</td>\n",
       "      <td>0.135952</td>\n",
       "      <td>0.329305</td>\n",
       "      <td>0.030211</td>\n",
       "    </tr>\n",
       "    <tr>\n",
       "      <td>std</td>\n",
       "      <td>0.179515</td>\n",
       "      <td>0.470672</td>\n",
       "      <td>1.000000e+00</td>\n",
       "      <td>1.000000e+00</td>\n",
       "      <td>1.000000e+00</td>\n",
       "      <td>1.000000e+00</td>\n",
       "      <td>1935.319338</td>\n",
       "      <td>0.439199</td>\n",
       "      <td>0.442459</td>\n",
       "      <td>0.437528</td>\n",
       "      <td>...</td>\n",
       "      <td>0.291790</td>\n",
       "      <td>0.249471</td>\n",
       "      <td>0.380736</td>\n",
       "      <td>0.343256</td>\n",
       "      <td>0.329929</td>\n",
       "      <td>0.329929</td>\n",
       "      <td>0.352649</td>\n",
       "      <td>0.343256</td>\n",
       "      <td>0.470672</td>\n",
       "      <td>0.171428</td>\n",
       "    </tr>\n",
       "    <tr>\n",
       "      <td>min</td>\n",
       "      <td>0.000000</td>\n",
       "      <td>0.000000</td>\n",
       "      <td>-2.503291e+00</td>\n",
       "      <td>-2.572131e+00</td>\n",
       "      <td>-2.648736e+00</td>\n",
       "      <td>-2.152869e+00</td>\n",
       "      <td>431.000000</td>\n",
       "      <td>0.000000</td>\n",
       "      <td>0.000000</td>\n",
       "      <td>0.000000</td>\n",
       "      <td>...</td>\n",
       "      <td>0.000000</td>\n",
       "      <td>0.000000</td>\n",
       "      <td>0.000000</td>\n",
       "      <td>0.000000</td>\n",
       "      <td>0.000000</td>\n",
       "      <td>0.000000</td>\n",
       "      <td>0.000000</td>\n",
       "      <td>0.000000</td>\n",
       "      <td>0.000000</td>\n",
       "      <td>0.000000</td>\n",
       "    </tr>\n",
       "    <tr>\n",
       "      <td>25%</td>\n",
       "      <td>0.000000</td>\n",
       "      <td>0.000000</td>\n",
       "      <td>-8.504011e-01</td>\n",
       "      <td>-8.603176e-01</td>\n",
       "      <td>-7.452412e-01</td>\n",
       "      <td>-7.381149e-01</td>\n",
       "      <td>3370.000000</td>\n",
       "      <td>0.000000</td>\n",
       "      <td>0.000000</td>\n",
       "      <td>0.000000</td>\n",
       "      <td>...</td>\n",
       "      <td>0.000000</td>\n",
       "      <td>0.000000</td>\n",
       "      <td>0.000000</td>\n",
       "      <td>0.000000</td>\n",
       "      <td>0.000000</td>\n",
       "      <td>0.000000</td>\n",
       "      <td>0.000000</td>\n",
       "      <td>0.000000</td>\n",
       "      <td>0.000000</td>\n",
       "      <td>0.000000</td>\n",
       "    </tr>\n",
       "    <tr>\n",
       "      <td>50%</td>\n",
       "      <td>0.000000</td>\n",
       "      <td>1.000000</td>\n",
       "      <td>8.772587e-02</td>\n",
       "      <td>1.466312e-01</td>\n",
       "      <td>-6.562743e-03</td>\n",
       "      <td>-1.579037e-01</td>\n",
       "      <td>4648.000000</td>\n",
       "      <td>0.000000</td>\n",
       "      <td>0.000000</td>\n",
       "      <td>0.000000</td>\n",
       "      <td>...</td>\n",
       "      <td>0.000000</td>\n",
       "      <td>0.000000</td>\n",
       "      <td>0.000000</td>\n",
       "      <td>0.000000</td>\n",
       "      <td>0.000000</td>\n",
       "      <td>0.000000</td>\n",
       "      <td>0.000000</td>\n",
       "      <td>0.000000</td>\n",
       "      <td>0.000000</td>\n",
       "      <td>0.000000</td>\n",
       "    </tr>\n",
       "    <tr>\n",
       "      <td>75%</td>\n",
       "      <td>0.000000</td>\n",
       "      <td>1.000000</td>\n",
       "      <td>8.024892e-01</td>\n",
       "      <td>7.508005e-01</td>\n",
       "      <td>7.055719e-01</td>\n",
       "      <td>5.693478e-01</td>\n",
       "      <td>5981.000000</td>\n",
       "      <td>1.000000</td>\n",
       "      <td>1.000000</td>\n",
       "      <td>1.000000</td>\n",
       "      <td>...</td>\n",
       "      <td>0.000000</td>\n",
       "      <td>0.000000</td>\n",
       "      <td>0.000000</td>\n",
       "      <td>0.000000</td>\n",
       "      <td>0.000000</td>\n",
       "      <td>0.000000</td>\n",
       "      <td>0.000000</td>\n",
       "      <td>0.000000</td>\n",
       "      <td>1.000000</td>\n",
       "      <td>0.000000</td>\n",
       "    </tr>\n",
       "    <tr>\n",
       "      <td>max</td>\n",
       "      <td>1.000000</td>\n",
       "      <td>1.000000</td>\n",
       "      <td>1.874634e+00</td>\n",
       "      <td>1.959139e+00</td>\n",
       "      <td>2.362380e+00</td>\n",
       "      <td>2.949989e+00</td>\n",
       "      <td>8714.000000</td>\n",
       "      <td>1.000000</td>\n",
       "      <td>1.000000</td>\n",
       "      <td>1.000000</td>\n",
       "      <td>...</td>\n",
       "      <td>1.000000</td>\n",
       "      <td>1.000000</td>\n",
       "      <td>1.000000</td>\n",
       "      <td>1.000000</td>\n",
       "      <td>1.000000</td>\n",
       "      <td>1.000000</td>\n",
       "      <td>1.000000</td>\n",
       "      <td>1.000000</td>\n",
       "      <td>1.000000</td>\n",
       "      <td>1.000000</td>\n",
       "    </tr>\n",
       "  </tbody>\n",
       "</table>\n",
       "<p>8 rows × 29 columns</p>\n",
       "</div>"
      ],
      "text/plain": [
       "          holiday  workingday          temp         atemp      humidity  \\\n",
       "count  331.000000  331.000000  3.310000e+02  3.310000e+02  3.310000e+02   \n",
       "mean     0.033233    0.670695 -6.976628e-17 -1.227618e-16 -7.808457e-16   \n",
       "std      0.179515    0.470672  1.000000e+00  1.000000e+00  1.000000e+00   \n",
       "min      0.000000    0.000000 -2.503291e+00 -2.572131e+00 -2.648736e+00   \n",
       "25%      0.000000    0.000000 -8.504011e-01 -8.603176e-01 -7.452412e-01   \n",
       "50%      0.000000    1.000000  8.772587e-02  1.466312e-01 -6.562743e-03   \n",
       "75%      0.000000    1.000000  8.024892e-01  7.508005e-01  7.055719e-01   \n",
       "max      1.000000    1.000000  1.874634e+00  1.959139e+00  2.362380e+00   \n",
       "\n",
       "          windspeed        count  season_2.0  season_3.0  season_4.0  ...  \\\n",
       "count  3.310000e+02   331.000000  331.000000  331.000000  331.000000  ...   \n",
       "mean   1.543579e-15  4598.447130    0.259819    0.265861    0.256798  ...   \n",
       "std    1.000000e+00  1935.319338    0.439199    0.442459    0.437528  ...   \n",
       "min   -2.152869e+00   431.000000    0.000000    0.000000    0.000000  ...   \n",
       "25%   -7.381149e-01  3370.000000    0.000000    0.000000    0.000000  ...   \n",
       "50%   -1.579037e-01  4648.000000    0.000000    0.000000    0.000000  ...   \n",
       "75%    5.693478e-01  5981.000000    1.000000    1.000000    1.000000  ...   \n",
       "max    2.949989e+00  8714.000000    1.000000    1.000000    1.000000  ...   \n",
       "\n",
       "       month_11.0  month_12.0  day_of_week_1.0  day_of_week_2.0  \\\n",
       "count  331.000000  331.000000       331.000000       331.000000   \n",
       "mean     0.093656    0.066465         0.175227         0.135952   \n",
       "std      0.291790    0.249471         0.380736         0.343256   \n",
       "min      0.000000    0.000000         0.000000         0.000000   \n",
       "25%      0.000000    0.000000         0.000000         0.000000   \n",
       "50%      0.000000    0.000000         0.000000         0.000000   \n",
       "75%      0.000000    0.000000         0.000000         0.000000   \n",
       "max      1.000000    1.000000         1.000000         1.000000   \n",
       "\n",
       "       day_of_week_3.0  day_of_week_4.0  day_of_week_5.0  day_of_week_6.0  \\\n",
       "count       331.000000       331.000000       331.000000       331.000000   \n",
       "mean          0.123867         0.123867         0.145015         0.135952   \n",
       "std           0.329929         0.329929         0.352649         0.343256   \n",
       "min           0.000000         0.000000         0.000000         0.000000   \n",
       "25%           0.000000         0.000000         0.000000         0.000000   \n",
       "50%           0.000000         0.000000         0.000000         0.000000   \n",
       "75%           0.000000         0.000000         0.000000         0.000000   \n",
       "max           1.000000         1.000000         1.000000         1.000000   \n",
       "\n",
       "       weather_2.0  weather_3.0  \n",
       "count   331.000000   331.000000  \n",
       "mean      0.329305     0.030211  \n",
       "std       0.470672     0.171428  \n",
       "min       0.000000     0.000000  \n",
       "25%       0.000000     0.000000  \n",
       "50%       0.000000     0.000000  \n",
       "75%       1.000000     0.000000  \n",
       "max       1.000000     1.000000  \n",
       "\n",
       "[8 rows x 29 columns]"
      ]
     },
     "execution_count": 5,
     "metadata": {},
     "output_type": "execute_result"
    }
   ],
   "source": [
    "train_df = pd.read_csv('./Bikeshare_train.csv').drop('Unnamed: 0', axis=1)\n",
    "test_df = pd.read_csv('./Bikeshare_test.csv').drop('Unnamed: 0', axis=1)\n",
    "# Get categorical attributes\n",
    "categorical_columns = ['season', 'month', 'holiday', 'day_of_week', 'workingday', 'weather']\n",
    "categorical_columns_g2cols = ['season', 'month', 'day_of_week', 'weather']\n",
    "\n",
    "# Numerical attributes\n",
    "numerical_columns = ['temp', 'atemp', 'humidity', 'windspeed']\n",
    "\n",
    "# Convert categorical attributes\n",
    "train_df = pd.get_dummies(train_df, columns=categorical_columns_g2cols, drop_first=True)\n",
    "test_df = pd.get_dummies(test_df, columns=categorical_columns_g2cols, drop_first=True)\n",
    "test_df.head()\n",
    "\n",
    "# Compute mean and std of training data\n",
    "mean = train_df[numerical_columns].mean()\n",
    "std = train_df[numerical_columns].std()\n",
    "\n",
    "# Scale the training data and test data by mean and std of training data\n",
    "train_df[numerical_columns] = (train_df[numerical_columns] - mean)/std\n",
    "test_df[numerical_columns] = (test_df[numerical_columns] - mean)/std\n",
    "\n",
    "# Summarize\n",
    "train_df.describe()"
   ]
  },
  {
   "cell_type": "code",
   "execution_count": 6,
   "metadata": {
    "scrolled": true
   },
   "outputs": [
    {
     "data": {
      "text/plain": [
       "array([[3.],\n",
       "       [3.],\n",
       "       [3.],\n",
       "       [1.],\n",
       "       [0.],\n",
       "       [2.],\n",
       "       [2.],\n",
       "       [2.],\n",
       "       [3.],\n",
       "       [3.],\n",
       "       [2.],\n",
       "       [2.],\n",
       "       [1.],\n",
       "       [3.],\n",
       "       [2.],\n",
       "       [3.],\n",
       "       [1.],\n",
       "       [3.],\n",
       "       [2.],\n",
       "       [1.],\n",
       "       [2.],\n",
       "       [2.],\n",
       "       [0.],\n",
       "       [0.],\n",
       "       [0.],\n",
       "       [2.],\n",
       "       [0.],\n",
       "       [2.],\n",
       "       [3.],\n",
       "       [0.],\n",
       "       [3.],\n",
       "       [0.],\n",
       "       [0.],\n",
       "       [1.],\n",
       "       [1.],\n",
       "       [3.],\n",
       "       [2.],\n",
       "       [2.],\n",
       "       [2.],\n",
       "       [2.],\n",
       "       [3.],\n",
       "       [3.],\n",
       "       [3.],\n",
       "       [1.],\n",
       "       [2.],\n",
       "       [2.],\n",
       "       [3.],\n",
       "       [2.],\n",
       "       [2.],\n",
       "       [1.],\n",
       "       [2.],\n",
       "       [2.],\n",
       "       [2.],\n",
       "       [0.],\n",
       "       [3.],\n",
       "       [3.],\n",
       "       [3.],\n",
       "       [1.],\n",
       "       [2.],\n",
       "       [3.],\n",
       "       [0.],\n",
       "       [2.],\n",
       "       [2.],\n",
       "       [0.],\n",
       "       [1.],\n",
       "       [1.],\n",
       "       [2.],\n",
       "       [2.],\n",
       "       [0.],\n",
       "       [2.],\n",
       "       [2.],\n",
       "       [0.],\n",
       "       [1.],\n",
       "       [2.],\n",
       "       [1.],\n",
       "       [2.],\n",
       "       [2.],\n",
       "       [1.],\n",
       "       [2.],\n",
       "       [3.],\n",
       "       [2.],\n",
       "       [1.],\n",
       "       [0.],\n",
       "       [3.],\n",
       "       [1.],\n",
       "       [2.],\n",
       "       [2.],\n",
       "       [0.],\n",
       "       [2.],\n",
       "       [2.],\n",
       "       [1.],\n",
       "       [1.],\n",
       "       [2.],\n",
       "       [1.],\n",
       "       [2.],\n",
       "       [2.],\n",
       "       [0.],\n",
       "       [1.],\n",
       "       [3.],\n",
       "       [2.],\n",
       "       [2.],\n",
       "       [2.],\n",
       "       [2.],\n",
       "       [2.],\n",
       "       [1.],\n",
       "       [1.],\n",
       "       [3.],\n",
       "       [3.],\n",
       "       [2.],\n",
       "       [1.],\n",
       "       [2.],\n",
       "       [2.],\n",
       "       [2.],\n",
       "       [2.],\n",
       "       [2.],\n",
       "       [2.],\n",
       "       [2.],\n",
       "       [2.],\n",
       "       [1.],\n",
       "       [3.],\n",
       "       [3.],\n",
       "       [1.],\n",
       "       [3.],\n",
       "       [2.],\n",
       "       [1.],\n",
       "       [3.],\n",
       "       [1.],\n",
       "       [2.],\n",
       "       [3.],\n",
       "       [1.],\n",
       "       [0.],\n",
       "       [1.],\n",
       "       [2.],\n",
       "       [0.],\n",
       "       [1.],\n",
       "       [1.],\n",
       "       [3.],\n",
       "       [2.],\n",
       "       [0.],\n",
       "       [2.],\n",
       "       [0.],\n",
       "       [2.],\n",
       "       [2.],\n",
       "       [3.],\n",
       "       [0.],\n",
       "       [1.],\n",
       "       [2.],\n",
       "       [1.],\n",
       "       [2.],\n",
       "       [0.],\n",
       "       [2.],\n",
       "       [0.],\n",
       "       [3.],\n",
       "       [3.],\n",
       "       [1.],\n",
       "       [1.],\n",
       "       [2.],\n",
       "       [0.],\n",
       "       [2.],\n",
       "       [1.],\n",
       "       [2.],\n",
       "       [1.],\n",
       "       [3.],\n",
       "       [1.],\n",
       "       [2.],\n",
       "       [2.],\n",
       "       [2.],\n",
       "       [3.],\n",
       "       [3.],\n",
       "       [0.],\n",
       "       [3.],\n",
       "       [1.],\n",
       "       [3.],\n",
       "       [2.],\n",
       "       [3.],\n",
       "       [2.],\n",
       "       [0.],\n",
       "       [1.],\n",
       "       [0.],\n",
       "       [2.],\n",
       "       [2.],\n",
       "       [1.],\n",
       "       [3.],\n",
       "       [2.],\n",
       "       [2.],\n",
       "       [2.],\n",
       "       [2.],\n",
       "       [3.],\n",
       "       [3.],\n",
       "       [2.],\n",
       "       [1.],\n",
       "       [3.],\n",
       "       [2.],\n",
       "       [2.],\n",
       "       [3.],\n",
       "       [3.],\n",
       "       [2.],\n",
       "       [2.],\n",
       "       [0.],\n",
       "       [2.],\n",
       "       [1.],\n",
       "       [2.],\n",
       "       [2.],\n",
       "       [2.],\n",
       "       [0.],\n",
       "       [2.],\n",
       "       [3.],\n",
       "       [3.],\n",
       "       [2.],\n",
       "       [3.],\n",
       "       [2.],\n",
       "       [1.],\n",
       "       [3.],\n",
       "       [3.],\n",
       "       [3.],\n",
       "       [3.],\n",
       "       [2.],\n",
       "       [2.],\n",
       "       [1.],\n",
       "       [3.],\n",
       "       [2.],\n",
       "       [1.],\n",
       "       [0.],\n",
       "       [2.],\n",
       "       [1.],\n",
       "       [2.],\n",
       "       [0.],\n",
       "       [3.],\n",
       "       [3.],\n",
       "       [2.],\n",
       "       [3.],\n",
       "       [3.],\n",
       "       [1.],\n",
       "       [1.],\n",
       "       [1.],\n",
       "       [2.],\n",
       "       [2.],\n",
       "       [3.],\n",
       "       [2.],\n",
       "       [2.],\n",
       "       [3.],\n",
       "       [2.],\n",
       "       [3.],\n",
       "       [2.],\n",
       "       [1.],\n",
       "       [1.],\n",
       "       [1.],\n",
       "       [1.],\n",
       "       [2.],\n",
       "       [3.],\n",
       "       [1.],\n",
       "       [2.],\n",
       "       [1.],\n",
       "       [3.],\n",
       "       [2.],\n",
       "       [2.],\n",
       "       [3.],\n",
       "       [1.],\n",
       "       [3.],\n",
       "       [2.],\n",
       "       [2.],\n",
       "       [1.],\n",
       "       [1.],\n",
       "       [2.],\n",
       "       [2.],\n",
       "       [0.],\n",
       "       [2.],\n",
       "       [3.],\n",
       "       [2.],\n",
       "       [3.],\n",
       "       [1.],\n",
       "       [0.],\n",
       "       [2.],\n",
       "       [0.],\n",
       "       [0.],\n",
       "       [2.],\n",
       "       [2.],\n",
       "       [3.],\n",
       "       [1.],\n",
       "       [0.],\n",
       "       [3.],\n",
       "       [0.],\n",
       "       [3.],\n",
       "       [3.],\n",
       "       [2.],\n",
       "       [3.],\n",
       "       [2.],\n",
       "       [1.],\n",
       "       [1.],\n",
       "       [3.],\n",
       "       [3.],\n",
       "       [3.],\n",
       "       [2.],\n",
       "       [3.],\n",
       "       [2.],\n",
       "       [2.],\n",
       "       [1.],\n",
       "       [1.],\n",
       "       [3.],\n",
       "       [1.],\n",
       "       [2.],\n",
       "       [0.],\n",
       "       [0.],\n",
       "       [1.],\n",
       "       [2.],\n",
       "       [1.],\n",
       "       [1.],\n",
       "       [3.],\n",
       "       [2.],\n",
       "       [3.],\n",
       "       [3.],\n",
       "       [2.],\n",
       "       [0.],\n",
       "       [3.],\n",
       "       [2.],\n",
       "       [3.],\n",
       "       [0.],\n",
       "       [2.],\n",
       "       [2.],\n",
       "       [2.],\n",
       "       [2.],\n",
       "       [2.],\n",
       "       [2.],\n",
       "       [3.],\n",
       "       [2.],\n",
       "       [2.],\n",
       "       [1.],\n",
       "       [1.],\n",
       "       [1.],\n",
       "       [2.],\n",
       "       [0.]])"
      ]
     },
     "execution_count": 6,
     "metadata": {},
     "output_type": "execute_result"
    }
   ],
   "source": [
    "import warnings\n",
    "warnings.filterwarnings(\"ignore\")\n",
    "train_df['count'][train_df['count'].values >6000] = 3\n",
    "train_df['count'][train_df['count'].values >4000] = 2\n",
    "train_df['count'][train_df['count'].values >2000] = 1\n",
    "train_df['count'][train_df['count'].values >100] = 0\n",
    "Xtrain = train_df[['temp','humidity']].values # append column of ones to attributes\n",
    "ytrain = train_df['count'].values.reshape(-1,1)\n",
    "\n",
    "Xtest = test_df.drop('count', axis=1).values\n",
    "ytest = test_df['count'].values.reshape(-1,1)\n",
    "ytrain"
   ]
  },
  {
   "cell_type": "code",
   "execution_count": 7,
   "metadata": {},
   "outputs": [
    {
     "name": "stdout",
     "output_type": "stream",
     "text": [
      "[2. 2. 1. 2. 1. 2. 1. 1. 1. 1. 1. 1. 0. 1. 1. 1. 1. 1. 2. 2. 2. 2. 1. 2.\n",
      " 1. 1. 2. 0. 1. 1. 1. 1. 0. 1. 2. 1. 1. 2. 2. 1. 2. 1. 1. 1. 2. 1. 2. 2.\n",
      " 2. 1. 1. 2. 2. 1. 1. 2. 1. 0. 3. 1. 1. 1. 1. 1. 1. 1. 1. 1. 1. 1. 1. 1.\n",
      " 1. 1. 1. 1. 1. 1. 1. 1. 2. 2. 1. 1. 2. 1. 1. 1. 1. 1. 2. 2. 1. 1. 2. 1.\n",
      " 1. 1. 1. 1.]\n",
      "Accuracy: 0.32\n"
     ]
    }
   ],
   "source": [
    "# Load libraries\n",
    "from sklearn.ensemble import AdaBoostClassifier\n",
    "from sklearn import datasets\n",
    "# Import train_test_split function\n",
    "from sklearn.model_selection import train_test_split\n",
    "#Import scikit-learn metrics module for accuracy calculation\n",
    "from sklearn import metrics\n",
    "from sklearn.tree import DecisionTreeClassifier\n",
    "\n",
    "# Load data\n",
    "X = Xtrain\n",
    "y = ytrain\n",
    "\n",
    "# Split dataset into training set and test set\n",
    "X_train, X_test, y_train, y_test = train_test_split(X, y, test_size=0.3) # 70% training and 30% test\n",
    "\n",
    "# Create adaboost classifer object\n",
    "abc = AdaBoostClassifier(n_estimators=500,\n",
    "                         learning_rate=1)\n",
    "# Train Adaboost Classifer\n",
    "model = abc.fit(X_train, y_train)\n",
    "\n",
    "#Predict the response for test dataset\n",
    "y_pred = model.predict(X_test)\n",
    "\n",
    "# Model Accuracy, how often is the classifier correct?\n",
    "print(y_pred)\n",
    "print(\"Accuracy:\",metrics.accuracy_score(y_test, y_pred))"
   ]
  },
  {
   "cell_type": "code",
   "execution_count": 8,
   "metadata": {},
   "outputs": [
    {
     "name": "stdout",
     "output_type": "stream",
     "text": [
      "Score:0.4984894259818731\n",
      "Score:0.5317220543806647\n",
      "Score:0.5317220543806647\n",
      "Score:0.552870090634441\n",
      "Score:0.540785498489426\n",
      "Score:0.5317220543806647\n"
     ]
    },
    {
     "data": {
      "image/png": "[encoded data removed]",
      "text/plain": [
       "<Figure size 432x288 with 1 Axes>"
      ]
     },
     "metadata": {
      "needs_background": "light"
     },
     "output_type": "display_data"
    }
   ],
   "source": [
    "score = []\n",
    "for i in range(1,300,50):\n",
    "    adbt = AdaBoostClassifier(DecisionTreeClassifier(max_depth=2, min_samples_split=20, min_samples_leaf=5),\n",
    "                          algorithm=\"SAMME\", n_estimators=i, learning_rate=0.5)\n",
    "\n",
    "    adbt.fit(X, y)\n",
    "    x = adbt.score(X, y)\n",
    "    score.append(x)\n",
    "    print(\"Score:{}\".format(adbt.score(X, y)))\n",
    "    plt.scatter(adbt.score(X, y), i, color = \"b\")\n",
    "    plt.xlabel(\"Score\")\n",
    "    plt.ylabel(\"n_estimator\")"
   ]
  },
  {
   "cell_type": "code",
   "execution_count": 9,
   "metadata": {},
   "outputs": [
    {
     "data": {
      "image/png": "[encoded data removed]",
      "text/plain": [
       "<Figure size 720x432 with 1 Axes>"
      ]
     },
     "metadata": {
      "needs_background": "light"
     },
     "output_type": "display_data"
    }
   ],
   "source": [
    "import numpy as np\n",
    "import matplotlib.pyplot as plt\n",
    "\n",
    "fig = plt.figure()\n",
    "\n",
    "ax = fig.add_subplot(111)\n",
    "fig.set_size_inches(10,6)\n",
    "\n",
    "ax.plot(range(1,300,50) ,score, 'o-', linewidth=2)\n",
    "\n",
    "ax.set_title('Accuracy Score Under Different Values of n_estimator (learn_rate = 0.5)', fontsize = 15)\n",
    "\n",
    "ax.set_xlabel('n_estimator',fontsize = 15)\n",
    "ax.set_ylabel('score',fontsize = 15)\n",
    "\n",
    "plt.show()"
   ]
  },
  {
   "cell_type": "code",
   "execution_count": 10,
   "metadata": {},
   "outputs": [
    {
     "name": "stdout",
     "output_type": "stream",
     "text": [
      "When learning rate = 0.001 n_estimator = 6, score = 0.4773413897280967\n",
      "When learning rate = 0.01 n_estimator = 6, score = 0.5045317220543807\n",
      "When learning rate = 0.05 n_estimator = 6, score = 0.5166163141993958\n",
      "When learning rate = 0.1 n_estimator = 6, score = 0.5166163141993958\n",
      "When learning rate = 0.2 n_estimator = 6, score = 0.5438066465256798\n"
     ]
    }
   ],
   "source": [
    "score = []\n",
    "learn_rate = [0.001,0.01,0.05,0.1,0.2]\n",
    "for i in learn_rate:\n",
    "    adbt = AdaBoostClassifier(DecisionTreeClassifier(max_depth=2, min_samples_split=20, min_samples_leaf=5),\n",
    "                          algorithm=\"SAMME\", n_estimators=300, learning_rate=i)\n",
    "\n",
    "    adbt.fit(X, y)\n",
    "    x = adbt.score(X, y)\n",
    "    score.append(x)\n",
    "    print(\"When learning rate = {} n_estimator = 6, score = {}\".format(i, adbt.score(X, y)))"
   ]
  },
  {
   "cell_type": "code",
   "execution_count": 11,
   "metadata": {},
   "outputs": [
    {
     "data": {
      "image/png": "[encoded data removed]",
      "text/plain": [
       "<Figure size 720x432 with 1 Axes>"
      ]
     },
     "metadata": {
      "needs_background": "light"
     },
     "output_type": "display_data"
    }
   ],
   "source": [
    "import numpy as np\n",
    "import matplotlib.pyplot as plt\n",
    "\n",
    "fig = plt.figure()\n",
    "\n",
    "ax = fig.add_subplot(111)\n",
    "fig.set_size_inches(10,6)\n",
    "\n",
    "ax.plot(learn_rate ,score,  'o-', linewidth=2)\n",
    "\n",
    "ax.set_title('Accuracy Score Under Different Values of Learning Rate(n_estimator = 300)',fontsize = 13)\n",
    "\n",
    "ax.set_xlabel('learning_rate',fontsize = 15)\n",
    "ax.set_ylabel('score',fontsize = 15)\n",
    "\n",
    "plt.show()"
   ]
  },
  {
   "cell_type": "markdown",
   "metadata": {},
   "source": [
    "####  It's a whole disaster, we think it's because the dataset is too complicated and we need to find the predictors which are more suitible for classification.  Then we draw some pictures of the Iris dataset."
   ]
  },
  {
   "cell_type": "code",
   "execution_count": 12,
   "metadata": {},
   "outputs": [],
   "source": [
    "import numpy as np\n",
    "import matplotlib.pyplot as plt\n",
    "from matplotlib.colors import ListedColormap\n",
    "from matplotlib.font_manager import FontProperties\n",
    "from sklearn.datasets import load_iris\n",
    "from sklearn.tree import DecisionTreeClassifier\n",
    "from sklearn.ensemble import AdaBoostClassifier\n",
    "%matplotlib inline\n",
    "\n",
    "from sklearn import datasets\n",
    "\n",
    "iris = datasets.load_iris()"
   ]
  },
  {
   "cell_type": "code",
   "execution_count": 13,
   "metadata": {},
   "outputs": [
    {
     "data": {
      "image/png": "[encoded data removed]",
      "text/plain": [
       "<Figure size 648x432 with 1 Axes>"
      ]
     },
     "metadata": {
      "needs_background": "light"
     },
     "output_type": "display_data"
    }
   ],
   "source": [
    "#iris = load_iris()\n",
    "x = iris.data[:,2:]#取后两个特征\n",
    "y = iris.target\n",
    "plt.figure(figsize=(9,6))\n",
    "plt.scatter(x[y==0,0],x[y==0,1],color='red',marker='o',label = \"setosa\")#取特征第0,1，（原特征里是3,4列），绘制类别为0的，颜色red\n",
    "plt.scatter(x[y==1,0],x[y==1,1],color='blue',marker='o',label = \"versicolor\")#取特征第0,1列，绘制类别为1的，颜色blue\n",
    "plt.scatter(x[y==2,0],x[y==2,1],color='green',marker='o', label = \"virginica\")#取特征第0,1列，绘制类别为2的，颜色green\n",
    "\n",
    "plt.xlabel('pedal length')\n",
    "plt.ylabel('pedal width')\n",
    "\n",
    "plt.legend()\n",
    "plt.show()"
   ]
  },
  {
   "cell_type": "code",
   "execution_count": 14,
   "metadata": {},
   "outputs": [
    {
     "data": {
      "image/png": "[encoded data removed]",
      "text/plain": [
       "<Figure size 648x432 with 1 Axes>"
      ]
     },
     "metadata": {
      "needs_background": "light"
     },
     "output_type": "display_data"
    }
   ],
   "source": [
    "iris = load_iris()\n",
    "x = iris.data[:,:2]#取后两个特征\n",
    "y = iris.target\n",
    "plt.figure(figsize=(9,6))\n",
    "plt.scatter(x[y==0,0],x[y==0,1],color='red',marker='o',label = \"setosa\")#取特征第0,1，（原特征里是3,4列），绘制类别为0的，颜色red\n",
    "plt.scatter(x[y==1,0],x[y==1,1],color='blue',marker='o',label = \"versicolor\")#取特征第0,1列，绘制类别为1的，颜色blue\n",
    "plt.scatter(x[y==2,0],x[y==2,1],color='green',marker='o', label = \"virginica\")#取特征第0,1列，绘制类别为2的，颜色green\n",
    "\n",
    "plt.xlabel('sepal length')\n",
    "plt.ylabel('sepal width')\n",
    "\n",
    "plt.legend()\n",
    "plt.show()"
   ]
  },
  {
   "cell_type": "markdown",
   "metadata": {},
   "source": [
    "####  Then we try to get weak classifiers"
   ]
  },
  {
   "cell_type": "code",
   "execution_count": 15,
   "metadata": {},
   "outputs": [
    {
     "data": {
      "image/png": "[encoded data removed]",
      "text/plain": [
       "<Figure size 648x432 with 1 Axes>"
      ]
     },
     "metadata": {
      "needs_background": "light"
     },
     "output_type": "display_data"
    }
   ],
   "source": [
    "x = iris.data[:,2:]#取后两个特征\n",
    "y = iris.target\n",
    "#xgrid=5.7\n",
    "plt.figure(figsize=(9,6))\n",
    "plt.scatter(x[y==0,0],x[y==0,1],color='red',marker='o',label = \"setosa\")#取特征第0,1，（原特征里是3,4列），绘制类别为0的，颜色red\n",
    "plt.scatter(x[y==1,0],x[y==1,1],color='blue',marker='o',label = \"versicolor\")#取特征第0,1列，绘制类别为1的，颜色blue\n",
    "plt.scatter(x[y==2,0],x[y==2,1],color='green',marker='o', label = \"virginica\")#取特征第0,1列，绘制类别为2的，颜色green\n",
    "\n",
    "plt.plot([2.5,2.5],[0,3], color = 'black')\n",
    "plt.plot([1,7],[1.7,1.7], color = 'black')\n",
    "plt.plot([5.1,5.1],[0,3], color = 'black')\n",
    "plt.xlabel('pedal length',fontsize=18)\n",
    "plt.ylabel('pedal width',fontsize=18)\n",
    "\n",
    "plt.legend()\n",
    "plt.show()"
   ]
  },
  {
   "cell_type": "code",
   "execution_count": 16,
   "metadata": {},
   "outputs": [],
   "source": [
    "X = iris.data[:, [2, 3]]\n",
    "y = iris.target\n",
    "\n",
    "label_list = ['setosa', 'veriscolor', 'virginica']"
   ]
  },
  {
   "cell_type": "code",
   "execution_count": 17,
   "metadata": {},
   "outputs": [],
   "source": [
    "def plot_decision_regions(X, y, classifier=None):\n",
    "    marker_list = ['o', 'o', 'o']\n",
    "    color_list = ['r', 'b', 'g']\n",
    "    cmap = ListedColormap(color_list[:len(np.unique(y))])\n",
    "    plt.figure(figsize=(9,6))\n",
    "    \n",
    "    x1_min, x1_max = X[:, 0].min()-1, X[:, 0].max()+1\n",
    "    x2_min, x2_max = X[:, 1].min()-1, X[:, 1].max()+1\n",
    "    t1 = np.linspace(x1_min, x1_max, 666)\n",
    "    t2 = np.linspace(x2_min, x2_max, 666)\n",
    "\n",
    "    x1, x2 = np.meshgrid(t1, t2)\n",
    "    y_hat = classifier.predict(np.array([x1.ravel(), x2.ravel()]).T)\n",
    "    y_hat = y_hat.reshape(x1.shape)\n",
    "    plt.contourf(x1, x2, y_hat, alpha=0.2, cmap=cmap)\n",
    "    plt.xlim(x1_min, x1_max)\n",
    "    plt.ylim(0,3.5)\n",
    "\n",
    "    for ind, clas in enumerate(np.unique(y)):\n",
    "        plt.scatter(X[y == clas, 0], X[y == clas, 1], alpha=0.8, s=50,\n",
    "                    c=color_list[ind], marker=marker_list[ind], label=label_list[clas])"
   ]
  },
  {
   "cell_type": "code",
   "execution_count": 18,
   "metadata": {},
   "outputs": [
    {
     "data": {
      "text/plain": [
       "AdaBoostClassifier(algorithm='SAMME',\n",
       "                   base_estimator=DecisionTreeClassifier(class_weight=None,\n",
       "                                                         criterion='gini',\n",
       "                                                         max_depth=2,\n",
       "                                                         max_features=None,\n",
       "                                                         max_leaf_nodes=None,\n",
       "                                                         min_impurity_decrease=0.0,\n",
       "                                                         min_impurity_split=None,\n",
       "                                                         min_samples_leaf=5,\n",
       "                                                         min_samples_split=20,\n",
       "                                                         min_weight_fraction_leaf=0.0,\n",
       "                                                         presort=False,\n",
       "                                                         random_state=None,\n",
       "                                                         splitter='best'),\n",
       "                   learning_rate=0.8, n_estimators=10, random_state=None)"
      ]
     },
     "execution_count": 18,
     "metadata": {},
     "output_type": "execute_result"
    }
   ],
   "source": [
    "adbt = AdaBoostClassifier(DecisionTreeClassifier(max_depth=2, min_samples_split=20, min_samples_leaf=5),\n",
    "                          algorithm=\"SAMME\", n_estimators=10, learning_rate=0.8)\n",
    "adbt.fit(X, y)"
   ]
  },
  {
   "cell_type": "markdown",
   "metadata": {},
   "source": [
    "#### Here we use sklearn to visualize the classification of iris dataset"
   ]
  },
  {
   "cell_type": "code",
   "execution_count": 19,
   "metadata": {},
   "outputs": [
    {
     "data": {
      "image/png": "[encoded data removed]",
      "text/plain": [
       "<Figure size 648x432 with 1 Axes>"
      ]
     },
     "metadata": {
      "needs_background": "light"
     },
     "output_type": "display_data"
    }
   ],
   "source": [
    "plot_decision_regions(X, y, classifier=adbt)\n",
    "plt.xlabel('.')\n",
    "plt.ylabel('.')\n",
    "plt.title('AdaBoostn_e=10, l_r=0.8)',\n",
    "           fontsize=20)\n",
    "plt.legend()\n",
    "plt.show()"
   ]
  },
  {
   "cell_type": "code",
   "execution_count": 20,
   "metadata": {},
   "outputs": [
    {
     "name": "stdout",
     "output_type": "stream",
     "text": [
      "Score:0.96\n",
      "Score:0.9933333333333333\n",
      "Score:0.9933333333333333\n",
      "Score:0.9933333333333333\n",
      "Score:0.9933333333333333\n",
      "Score:0.9933333333333333\n"
     ]
    },
    {
     "data": {
      "image/png": "[encoded data removed]",
      "text/plain": [
       "<Figure size 432x288 with 1 Axes>"
      ]
     },
     "metadata": {
      "needs_background": "light"
     },
     "output_type": "display_data"
    }
   ],
   "source": [
    "score = []#get the score of each iteration\n",
    "for i in range(1,300,50):\n",
    "    adbt = AdaBoostClassifier(DecisionTreeClassifier(max_depth=2, min_samples_split=20, min_samples_leaf=5),\n",
    "                          algorithm=\"SAMME\", n_estimators=i, learning_rate=0.5)\n",
    "\n",
    "    adbt.fit(X, y)\n",
    "    x = adbt.score(X, y)\n",
    "    score.append(x)\n",
    "    print(\"Score:{}\".format(adbt.score(X, y)))\n",
    "    plt.scatter(adbt.score(X, y), i, color = \"b\")\n",
    "    plt.xlabel(\"Score\")\n",
    "    plt.ylabel(\"n_estimator\")"
   ]
  },
  {
   "cell_type": "markdown",
   "metadata": {},
   "source": [
    "### Get Accuracy Score Under Different Values of n_estimator"
   ]
  },
  {
   "cell_type": "code",
   "execution_count": 21,
   "metadata": {},
   "outputs": [
    {
     "data": {
      "image/png": "[encoded data removed]",
      "text/plain": [
       "<Figure size 720x432 with 1 Axes>"
      ]
     },
     "metadata": {
      "needs_background": "light"
     },
     "output_type": "display_data"
    }
   ],
   "source": [
    "import numpy as np\n",
    "import matplotlib.pyplot as plt\n",
    "\n",
    "fig = plt.figure()\n",
    "\n",
    "ax = fig.add_subplot(111)\n",
    "fig.set_size_inches(10,6)\n",
    "\n",
    "ax.plot(range(1,300,50) ,score, 'o-', linewidth=2)\n",
    "\n",
    "ax.set_title('Accuracy Score Under Different Values of n_estimator (learn_rate = 0.5)', fontsize = 15)\n",
    "\n",
    "ax.set_xlabel('n_estimator',fontsize = 15)\n",
    "ax.set_ylabel('score',fontsize = 15)\n",
    "\n",
    "plt.show()"
   ]
  },
  {
   "cell_type": "markdown",
   "metadata": {},
   "source": [
    "### Get Accuracy Score Under Different Values of Learning Rate"
   ]
  },
  {
   "cell_type": "code",
   "execution_count": 22,
   "metadata": {},
   "outputs": [
    {
     "name": "stdout",
     "output_type": "stream",
     "text": [
      "When learning rate = 0.001 n_estimator = 6, score = 0.9533333333333334\n",
      "When learning rate = 0.01 n_estimator = 6, score = 0.9666666666666667\n",
      "When learning rate = 0.05 n_estimator = 6, score = 0.9733333333333334\n",
      "When learning rate = 0.1 n_estimator = 6, score = 0.9933333333333333\n",
      "When learning rate = 0.2 n_estimator = 6, score = 0.9933333333333333\n"
     ]
    }
   ],
   "source": [
    "score = []\n",
    "learn_rate = [0.001,0.01,0.05,0.1,0.2]\n",
    "for i in learn_rate:\n",
    "    adbt = AdaBoostClassifier(DecisionTreeClassifier(max_depth=2, min_samples_split=20, min_samples_leaf=5),\n",
    "                          algorithm=\"SAMME\", n_estimators=300, learning_rate=i)\n",
    "\n",
    "    adbt.fit(X, y)\n",
    "    x = adbt.score(X, y)\n",
    "    score.append(x)\n",
    "    print(\"When learning rate = {} n_estimator = 6, score = {}\".format(i, adbt.score(X, y)))"
   ]
  },
  {
   "cell_type": "code",
   "execution_count": 23,
   "metadata": {},
   "outputs": [
    {
     "data": {
      "image/png": "[encoded data removed]",
      "text/plain": [
       "<Figure size 720x432 with 1 Axes>"
      ]
     },
     "metadata": {
      "needs_background": "light"
     },
     "output_type": "display_data"
    }
   ],
   "source": [
    "import numpy as np\n",
    "import matplotlib.pyplot as plt\n",
    "\n",
    "fig = plt.figure()\n",
    "\n",
    "ax = fig.add_subplot(111)\n",
    "fig.set_size_inches(10,6)\n",
    "\n",
    "ax.plot(learn_rate ,score,  'o-', linewidth=2)\n",
    "\n",
    "ax.set_title('Accuracy Score Under Different Values of Learning Rate(n_estimator = 300)',fontsize = 13)\n",
    "\n",
    "ax.set_xlabel('learning_rate',fontsize = 15)\n",
    "ax.set_ylabel('score',fontsize = 15)\n",
    "\n",
    "plt.show()"
   ]
  },
  {
   "cell_type": "markdown",
   "metadata": {},
   "source": [
    "#### We find out pedal predictors which are not complex enough, so we choose other predictors, sepal length and sepal width, to verify our results."
   ]
  },
  {
   "cell_type": "code",
   "execution_count": 24,
   "metadata": {},
   "outputs": [],
   "source": [
    "X = iris.data[:, [0,1]]\n",
    "y = iris.target\n",
    "label_list = ['setosa', 'veriscolor', 'virginica']"
   ]
  },
  {
   "cell_type": "code",
   "execution_count": 25,
   "metadata": {},
   "outputs": [],
   "source": [
    "def plot_decision_regions(X, y, classifier=None):\n",
    "    marker_list = ['o', 'o', 'o']\n",
    "    color_list = ['r', 'b', 'g']\n",
    "    cmap = ListedColormap(color_list[:len(np.unique(y))])\n",
    "    plt.figure(figsize=(9,6))\n",
    "    x1_min, x1_max = X[:, 0].min()-1, X[:, 0].max()+1\n",
    "    x2_min, x2_max = X[:, 1].min()-1, X[:, 1].max()+1\n",
    "    t1 = np.linspace(x1_min, x1_max, 666)\n",
    "    t2 = np.linspace(x2_min, x2_max, 666)\n",
    "\n",
    "    x1, x2 = np.meshgrid(t1, t2)\n",
    "    y_hat = classifier.predict(np.array([x1.ravel(), x2.ravel()]).T)\n",
    "    y_hat = y_hat.reshape(x1.shape)\n",
    "    plt.contourf(x1, x2, y_hat, alpha=0.2, cmap=cmap)\n",
    "    plt.xlim(x1_min, x1_max)\n",
    "    #plt.ylim(0,3.5)\n",
    "\n",
    "    for ind, clas in enumerate(np.unique(y)):\n",
    "        plt.scatter(X[y == clas, 0], X[y == clas, 1], alpha=0.8, s=50,\n",
    "                    c=color_list[ind], marker=marker_list[ind], label=label_list[clas])"
   ]
  },
  {
   "cell_type": "code",
   "execution_count": 26,
   "metadata": {},
   "outputs": [
    {
     "data": {
      "text/plain": [
       "AdaBoostClassifier(algorithm='SAMME',\n",
       "                   base_estimator=DecisionTreeClassifier(class_weight=None,\n",
       "                                                         criterion='gini',\n",
       "                                                         max_depth=2,\n",
       "                                                         max_features=None,\n",
       "                                                         max_leaf_nodes=None,\n",
       "                                                         min_impurity_decrease=0.0,\n",
       "                                                         min_impurity_split=None,\n",
       "                                                         min_samples_leaf=5,\n",
       "                                                         min_samples_split=20,\n",
       "                                                         min_weight_fraction_leaf=0.0,\n",
       "                                                         presort=False,\n",
       "                                                         random_state=None,\n",
       "                                                         splitter='best'),\n",
       "                   learning_rate=0.8, n_estimators=10, random_state=None)"
      ]
     },
     "execution_count": 26,
     "metadata": {},
     "output_type": "execute_result"
    }
   ],
   "source": [
    "adbt = AdaBoostClassifier(DecisionTreeClassifier(max_depth=2, min_samples_split=20, min_samples_leaf=5),\n",
    "                          algorithm=\"SAMME\", n_estimators=10, learning_rate=0.8)\n",
    "adbt.fit(X, y)"
   ]
  },
  {
   "cell_type": "code",
   "execution_count": 27,
   "metadata": {},
   "outputs": [
    {
     "data": {
      "image/png": "[encoded data removed]",
      "text/plain": [
       "<Figure size 648x432 with 1 Axes>"
      ]
     },
     "metadata": {
      "needs_background": "light"
     },
     "output_type": "display_data"
    }
   ],
   "source": [
    "plot_decision_regions(X, y, classifier=adbt)\n",
    "plt.xlabel('.')\n",
    "plt.ylabel('.')\n",
    "plt.title('AdaBoostn_e=10, l_r=0.8)',\n",
    "           fontsize=20)\n",
    "plt.legend()\n",
    "plt.show()"
   ]
  },
  {
   "cell_type": "code",
   "execution_count": 28,
   "metadata": {},
   "outputs": [
    {
     "name": "stdout",
     "output_type": "stream",
     "text": [
      "Score:0.7733333333333333\n",
      "Score:0.7866666666666666\n",
      "Score:0.7866666666666666\n",
      "Score:0.7933333333333333\n",
      "Score:0.7933333333333333\n",
      "Score:0.7933333333333333\n",
      "Score:0.7933333333333333\n",
      "Score:0.8\n",
      "Score:0.8\n",
      "Score:0.8066666666666666\n",
      "Score:0.8066666666666666\n",
      "Score:0.8066666666666666\n",
      "Score:0.8066666666666666\n",
      "Score:0.8066666666666666\n",
      "Score:0.8066666666666666\n",
      "Score:0.8066666666666666\n",
      "Score:0.8133333333333334\n",
      "Score:0.8133333333333334\n",
      "Score:0.8133333333333334\n",
      "Score:0.8133333333333334\n",
      "Score:0.8133333333333334\n",
      "Score:0.8133333333333334\n",
      "Score:0.8133333333333334\n"
     ]
    },
    {
     "data": {
      "image/png": "[encoded data removed]",
      "text/plain": [
       "<Figure size 432x288 with 1 Axes>"
      ]
     },
     "metadata": {
      "needs_background": "light"
     },
     "output_type": "display_data"
    }
   ],
   "source": [
    "score = []\n",
    "for i in range(2,48, 2):\n",
    "    adbt = AdaBoostClassifier(DecisionTreeClassifier(max_depth=2, min_samples_split=20, min_samples_leaf=5),\n",
    "                          algorithm=\"SAMME\", n_estimators=i, learning_rate=0.4)\n",
    "\n",
    "    adbt.fit(X, y)\n",
    "    x = adbt.score(X, y)\n",
    "    score.append(x)\n",
    "    print(\"Score:{}\".format(adbt.score(X, y)))\n",
    "    plt.scatter(adbt.score(X, y), i, color = \"b\")\n",
    "    plt.xlabel(\"Score\")\n",
    "    plt.ylabel(\"n_estimator\")"
   ]
  },
  {
   "cell_type": "code",
   "execution_count": 29,
   "metadata": {},
   "outputs": [
    {
     "data": {
      "image/png": "[encoded data removed]",
      "text/plain": [
       "<Figure size 720x432 with 1 Axes>"
      ]
     },
     "metadata": {
      "needs_background": "light"
     },
     "output_type": "display_data"
    }
   ],
   "source": [
    "import numpy as np\n",
    "import matplotlib.pyplot as plt\n",
    "\n",
    "fig = plt.figure()\n",
    "\n",
    "ax = fig.add_subplot(111)\n",
    "fig.set_size_inches(10,6)\n",
    "\n",
    "ax.plot(score, range(2,48,2) , 'o-', linewidth=2)\n",
    "\n",
    "ax.set_title('The Performance of The Model Under Different Value of Learning Rate',fontsize = 15)\n",
    "\n",
    "ax.set_xlabel('Score',fontsize = 15)\n",
    "ax.set_ylabel('n_e',fontsize = 15)\n",
    "\n",
    "plt.show()"
   ]
  }
 ],
 "metadata": {
  "kernelspec": {
   "display_name": "Python 3",
   "language": "python",
   "name": "python3"
  },
  "language_info": {
   "codemirror_mode": {
    "name": "ipython",
    "version": 3
   },
   "file_extension": ".py",
   "mimetype": "text/x-python",
   "name": "python",
   "nbconvert_exporter": "python",
   "pygments_lexer": "ipython3",
   "version": "3.7.4"
  }
 },
 "nbformat": 4,
 "nbformat_minor": 2
}
